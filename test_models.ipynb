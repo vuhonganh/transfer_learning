{
 "cells": [
  {
   "cell_type": "code",
   "execution_count": 1,
   "metadata": {
    "collapsed": true
   },
   "outputs": [],
   "source": [
    "%load_ext autoreload\n",
    "%autoreload 2\n",
    "%matplotlib inline  "
   ]
  },
  {
   "cell_type": "code",
   "execution_count": 33,
   "metadata": {},
   "outputs": [],
   "source": [
    "from data_reader import get_data_arr\n",
    "from transfer_models import TransferModel"
   ]
  },
  {
   "cell_type": "code",
   "execution_count": 9,
   "metadata": {
    "collapsed": true
   },
   "outputs": [],
   "source": [
    "import matplotlib.pyplot as plt "
   ]
  },
  {
   "cell_type": "code",
   "execution_count": 4,
   "metadata": {
    "scrolled": true
   },
   "outputs": [
    {
     "name": "stdout",
     "output_type": "stream",
     "text": [
      "Read data from mydata_1200.npz \n",
      "\n"
     ]
    }
   ],
   "source": [
    "x_train, y_train, x_val, y_val, x_test, y_test = get_data_arr()"
   ]
  },
  {
   "cell_type": "code",
   "execution_count": 34,
   "metadata": {},
   "outputs": [
    {
     "name": "stdout",
     "output_type": "stream",
     "text": [
      "initializer = he_normal\n",
      "added fc-128, dropout keep prob 0.500000, l2 reg 0.005000\n"
     ]
    }
   ],
   "source": [
    "m128 = TransferModel(\"resnet\", [128])"
   ]
  },
  {
   "cell_type": "code",
   "execution_count": 6,
   "metadata": {},
   "outputs": [
    {
     "name": "stdout",
     "output_type": "stream",
     "text": [
      "initializer = he_normal\n",
      "added fc-128, dropout keep prob 0.500000, l2 reg 0.005000\n"
     ]
    }
   ],
   "source": [
    "m512 = TransferModel(\"resnet\", [128])"
   ]
  },
  {
   "cell_type": "code",
   "execution_count": 8,
   "metadata": {},
   "outputs": [
    {
     "name": "stdout",
     "output_type": "stream",
     "text": [
      "initializer = he_normal\n",
      "added fc-512, dropout keep prob 0.500000, l2 reg 0.050000\n",
      "added fc-128, dropout keep prob 0.500000, l2 reg 0.050000\n"
     ]
    }
   ],
   "source": [
    "m512_128 = TransferModel(\"resnet\", [512, 128], reg_list=[5e-2, 5e-2])"
   ]
  },
  {
   "cell_type": "code",
   "execution_count": null,
   "metadata": {},
   "outputs": [
    {
     "name": "stdout",
     "output_type": "stream",
     "text": [
      "Train on 8064 samples, validate on 2016 samples\n",
      "Epoch 1/25\n",
      "91s - loss: 3.1210 - acc: 0.3034 - val_loss: 2.2105 - val_acc: 0.6984\n",
      "Epoch 2/25\n",
      "88s - loss: 2.2099 - acc: 0.5950 - val_loss: 1.6892 - val_acc: 0.7991\n",
      "Epoch 3/25\n"
     ]
    }
   ],
   "source": [
    "m128.fit(x_train, y_train, x_val, y_val, bs=144)\n",
    "m128.evaluate(x_test, y_test)"
   ]
  },
  {
   "cell_type": "code",
   "execution_count": 11,
   "metadata": {},
   "outputs": [
    {
     "name": "stdout",
     "output_type": "stream",
     "text": [
      "Train on 8064 samples, validate on 2016 samples\n",
      "Epoch 1/25\n",
      "91s - loss: 2.6532 - acc: 0.4561 - val_loss: 1.6833 - val_acc: 0.7961\n",
      "Epoch 2/25\n",
      "90s - loss: 1.8205 - acc: 0.7174 - val_loss: 1.4494 - val_acc: 0.8363\n",
      "Epoch 3/25\n",
      "90s - loss: 1.6088 - acc: 0.7744 - val_loss: 1.3410 - val_acc: 0.8537\n",
      "Epoch 4/25\n",
      "90s - loss: 1.4466 - acc: 0.8083 - val_loss: 1.2631 - val_acc: 0.8626\n",
      "Epoch 5/25\n",
      "90s - loss: 1.3563 - acc: 0.8251 - val_loss: 1.2001 - val_acc: 0.8695\n",
      "Epoch 6/25\n",
      "90s - loss: 1.2809 - acc: 0.8424 - val_loss: 1.1441 - val_acc: 0.8810\n",
      "Epoch 7/25\n",
      "90s - loss: 1.2205 - acc: 0.8508 - val_loss: 1.0997 - val_acc: 0.8790\n",
      "Epoch 8/25\n",
      "90s - loss: 1.1516 - acc: 0.8584 - val_loss: 1.0521 - val_acc: 0.8864\n",
      "Epoch 9/25\n",
      "90s - loss: 1.0915 - acc: 0.8726 - val_loss: 1.0120 - val_acc: 0.8864\n",
      "Epoch 10/25\n",
      "90s - loss: 1.0505 - acc: 0.8767 - val_loss: 0.9729 - val_acc: 0.8963\n",
      "Epoch 11/25\n",
      "90s - loss: 1.0067 - acc: 0.8803 - val_loss: 0.9451 - val_acc: 0.8904\n",
      "Epoch 12/25\n",
      "90s - loss: 0.9511 - acc: 0.8888 - val_loss: 0.9021 - val_acc: 0.8978\n",
      "Epoch 13/25\n",
      "90s - loss: 0.9143 - acc: 0.8915 - val_loss: 0.8665 - val_acc: 0.9048\n",
      "Epoch 14/25\n",
      "90s - loss: 0.8566 - acc: 0.9055 - val_loss: 0.8365 - val_acc: 0.9043\n",
      "Epoch 15/25\n",
      "90s - loss: 0.8310 - acc: 0.9066 - val_loss: 0.8098 - val_acc: 0.9003\n",
      "Epoch 16/25\n",
      "90s - loss: 0.7871 - acc: 0.9116 - val_loss: 0.7846 - val_acc: 0.9003\n",
      "Epoch 17/25\n",
      "\n",
      "Epoch 00016: reducing learning rate to 7.999999797903001e-05.\n",
      "91s - loss: 0.7587 - acc: 0.9122 - val_loss: 0.7579 - val_acc: 0.9048\n",
      "Epoch 18/25\n",
      "90s - loss: 0.7282 - acc: 0.9148 - val_loss: 0.7414 - val_acc: 0.9043\n",
      "Epoch 19/25\n",
      "90s - loss: 0.7066 - acc: 0.9196 - val_loss: 0.7162 - val_acc: 0.9092\n",
      "Epoch 20/25\n",
      "90s - loss: 0.6791 - acc: 0.9205 - val_loss: 0.7014 - val_acc: 0.9067\n",
      "Epoch 21/25\n",
      "90s - loss: 0.6605 - acc: 0.9226 - val_loss: 0.6817 - val_acc: 0.9092\n",
      "Epoch 22/25\n",
      "90s - loss: 0.6345 - acc: 0.9306 - val_loss: 0.6651 - val_acc: 0.9097\n",
      "Epoch 23/25\n",
      "90s - loss: 0.6135 - acc: 0.9322 - val_loss: 0.6498 - val_acc: 0.9107\n",
      "Epoch 24/25\n",
      "90s - loss: 0.5998 - acc: 0.9304 - val_loss: 0.6350 - val_acc: 0.9132\n",
      "Epoch 25/25\n",
      "90s - loss: 0.5765 - acc: 0.9349 - val_loss: 0.6185 - val_acc: 0.9157\n",
      "4320/4320 [==============================] - 43s    \n",
      "top 1 accuracy = 0.913194\n",
      "top 2 accuracy = 0.971991\n"
     ]
    }
   ],
   "source": [
    "m512.fit(x_train, y_train, x_val, y_val)\n",
    "m512.evaluate(x_test, y_test)"
   ]
  },
  {
   "cell_type": "code",
   "execution_count": 12,
   "metadata": {},
   "outputs": [
    {
     "name": "stdout",
     "output_type": "stream",
     "text": [
      "Train on 8064 samples, validate on 2016 samples\n",
      "Epoch 1/25\n",
      "92s - loss: 42.4925 - acc: 0.3415 - val_loss: 32.9264 - val_acc: 0.7981\n",
      "Epoch 2/25\n",
      "91s - loss: 26.8043 - acc: 0.6267 - val_loss: 20.7075 - val_acc: 0.8333\n",
      "Epoch 3/25\n",
      "91s - loss: 17.0029 - acc: 0.7138 - val_loss: 13.1416 - val_acc: 0.8522\n",
      "Epoch 4/25\n",
      "91s - loss: 10.9107 - acc: 0.7605 - val_loss: 8.4720 - val_acc: 0.8581\n",
      "Epoch 5/25\n",
      "91s - loss: 7.1782 - acc: 0.7853 - val_loss: 5.6058 - val_acc: 0.8760\n",
      "Epoch 6/25\n",
      "91s - loss: 4.8724 - acc: 0.7991 - val_loss: 3.8523 - val_acc: 0.8705\n",
      "Epoch 7/25\n",
      "91s - loss: 3.4600 - acc: 0.8098 - val_loss: 2.7831 - val_acc: 0.8695\n",
      "Epoch 8/25\n",
      "91s - loss: 2.5913 - acc: 0.8156 - val_loss: 2.0918 - val_acc: 0.8819\n",
      "Epoch 9/25\n",
      "91s - loss: 2.0419 - acc: 0.8243 - val_loss: 1.6876 - val_acc: 0.8780\n",
      "Epoch 10/25\n",
      "91s - loss: 1.7022 - acc: 0.8230 - val_loss: 1.4055 - val_acc: 0.8810\n",
      "Epoch 11/25\n",
      "91s - loss: 1.4784 - acc: 0.8220 - val_loss: 1.2341 - val_acc: 0.8824\n",
      "Epoch 12/25\n",
      "91s - loss: 1.3330 - acc: 0.8248 - val_loss: 1.1203 - val_acc: 0.8755\n",
      "Epoch 13/25\n",
      "91s - loss: 1.2280 - acc: 0.8287 - val_loss: 1.0443 - val_acc: 0.8725\n",
      "Epoch 14/25\n",
      "91s - loss: 1.1600 - acc: 0.8305 - val_loss: 1.0002 - val_acc: 0.8790\n",
      "Epoch 15/25\n",
      "\n",
      "Epoch 00014: reducing learning rate to 7.999999797903001e-05.\n",
      "91s - loss: 1.1156 - acc: 0.8323 - val_loss: 0.9624 - val_acc: 0.8765\n",
      "Epoch 16/25\n",
      "90s - loss: 1.0728 - acc: 0.8364 - val_loss: 0.9240 - val_acc: 0.8795\n",
      "Epoch 17/25\n",
      "90s - loss: 1.0365 - acc: 0.8424 - val_loss: 0.8993 - val_acc: 0.8800\n",
      "Epoch 18/25\n",
      "\n",
      "Epoch 00017: reducing learning rate to 6.399999838322402e-05.\n",
      "90s - loss: 1.0426 - acc: 0.8291 - val_loss: 0.9001 - val_acc: 0.8750\n",
      "Epoch 19/25\n",
      "90s - loss: 1.0183 - acc: 0.8385 - val_loss: 0.8825 - val_acc: 0.8805\n",
      "Epoch 20/25\n",
      "90s - loss: 1.0016 - acc: 0.8397 - val_loss: 0.8644 - val_acc: 0.8854\n",
      "Epoch 21/25\n",
      "90s - loss: 0.9956 - acc: 0.8416 - val_loss: 0.8654 - val_acc: 0.8770\n",
      "Epoch 22/25\n",
      "90s - loss: 0.9798 - acc: 0.8410 - val_loss: 0.8563 - val_acc: 0.8829\n",
      "Epoch 23/25\n",
      "90s - loss: 0.9821 - acc: 0.8435 - val_loss: 0.8599 - val_acc: 0.8760\n",
      "Epoch 24/25\n",
      "\n",
      "Epoch 00023: reducing learning rate to 5.119999987073243e-05.\n",
      "90s - loss: 0.9731 - acc: 0.8446 - val_loss: 0.8588 - val_acc: 0.8780\n",
      "Epoch 25/25\n",
      "90s - loss: 0.9536 - acc: 0.8451 - val_loss: 0.8432 - val_acc: 0.8795\n",
      "4320/4320 [==============================] - 43s    \n",
      "top 1 accuracy = 0.879167\n",
      "top 2 accuracy = 0.954398\n"
     ]
    }
   ],
   "source": [
    "m512_128.fit(x_train, y_train, x_val, y_val)\n",
    "m512_128.evaluate(x_test, y_test)"
   ]
  },
  {
   "cell_type": "code",
   "execution_count": 36,
   "metadata": {},
   "outputs": [
    {
     "name": "stdout",
     "output_type": "stream",
     "text": [
      "2016/2016 [==============================] - 21s    \n",
      "top 1 accuracy = 0.081349\n",
      "top 2 accuracy = 0.154762\n"
     ]
    }
   ],
   "source": [
    "m128.evaluate(x_val, y_val)"
   ]
  },
  {
   "cell_type": "code",
   "execution_count": 39,
   "metadata": {},
   "outputs": [
    {
     "data": {
      "image/png": "[encoded data removed]",
      "text/plain": [
       "<matplotlib.figure.Figure at 0x7fa981468208>"
      ]
     },
     "metadata": {},
     "output_type": "display_data"
    }
   ],
   "source": [
    "m128.plot_histograms()"
   ]
  },
  {
   "cell_type": "code",
   "execution_count": 26,
   "metadata": {},
   "outputs": [
    {
     "data": {
      "image/png": "[encoded data removed]",
      "text/plain": [
       "<matplotlib.figure.Figure at 0x7fa98811f7f0>"
      ]
     },
     "metadata": {},
     "output_type": "display_data"
    }
   ],
   "source": [
    "m512.plot_acc()"
   ]
  },
  {
   "cell_type": "code",
   "execution_count": 27,
   "metadata": {},
   "outputs": [
    {
     "data": {
      "image/png": "[encoded data removed]",
      "text/plain": [
       "<matplotlib.figure.Figure at 0x7fa9a37e8b70>"
      ]
     },
     "metadata": {},
     "output_type": "display_data"
    }
   ],
   "source": [
    "m512_128.plot_acc()"
   ]
  },
  {
   "cell_type": "code",
   "execution_count": 16,
   "metadata": {},
   "outputs": [
    {
     "data": {
      "text/plain": [
       "<matplotlib.legend.Legend at 0x7fa9a38e7cf8>"
      ]
     },
     "execution_count": 16,
     "metadata": {},
     "output_type": "execute_result"
    },
    {
     "data": {
      "image/png": "[encoded data removed]",
      "text/plain": [
       "<matplotlib.figure.Figure at 0x7fa9a4b56b00>"
      ]
     },
     "metadata": {},
     "output_type": "display_data"
    }
   ],
   "source": [
    "acc_128 = m128.acc['val']\n",
    "acc_512 = m512.acc['val']\n",
    "acc_512_128 = m512_128.acc['val']\n",
    "plt.plot(acc_128, label='128')\n",
    "plt.plot(acc_512, label='512')\n",
    "plt.plot(acc_512_128, label='512_128')\n",
    "plt.legend(loc='lower right')"
   ]
  },
  {
   "cell_type": "code",
   "execution_count": null,
   "metadata": {
    "collapsed": true
   },
   "outputs": [],
   "source": []
  }
 ],
 "metadata": {
  "kernelspec": {
   "display_name": "Python 3",
   "language": "python",
   "name": "python3"
  },
  "language_info": {
   "codemirror_mode": {
    "name": "ipython",
    "version": 3
   },
   "file_extension": ".py",
   "mimetype": "text/x-python",
   "name": "python",
   "nbconvert_exporter": "python",
   "pygments_lexer": "ipython3",
   "version": "3.6.1"
  }
 },
 "nbformat": 4,
 "nbformat_minor": 2
}
