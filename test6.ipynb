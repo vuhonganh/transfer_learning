{
 "cells": [
  {
   "cell_type": "code",
   "execution_count": 1,
   "metadata": {
    "collapsed": true
   },
   "outputs": [],
   "source": [
    "%load_ext autoreload\n",
    "%autoreload 2\n",
    "%matplotlib inline  "
   ]
  },
  {
   "cell_type": "code",
   "execution_count": 2,
   "metadata": {},
   "outputs": [
    {
     "name": "stderr",
     "output_type": "stream",
     "text": [
      "Using TensorFlow backend.\n"
     ]
    }
   ],
   "source": [
    "import matplotlib.pyplot as plt \n",
    "from transfer_models import *"
   ]
  },
  {
   "cell_type": "code",
   "execution_count": null,
   "metadata": {},
   "outputs": [
    {
     "name": "stdout",
     "output_type": "stream",
     "text": [
      "initializer = he_normal\n",
      "added fc-512, dropout keep prob 0.500000, l2 reg 0.010000\n",
      "Read data from mydata_1200.npz \n",
      "\n",
      "Train on 8064 samples, validate on 2016 samples\n",
      "Epoch 1/20\n",
      "128s - loss: 12.6786 - acc: 0.5800 - val_loss: 9.7123 - val_acc: 0.7654\n",
      "Epoch 2/20\n",
      "127s - loss: 9.7352 - acc: 0.7656 - val_loss: 9.2075 - val_acc: 0.7932\n",
      "Epoch 3/20\n",
      "126s - loss: 8.7503 - acc: 0.8202 - val_loss: 8.8917 - val_acc: 0.8021\n",
      "Epoch 4/20\n"
     ]
    }
   ],
   "source": [
    "m1 = exp_2(\"vgg\",[512], reg_list=[0.01], augment=False, use_noise=False, epo1=20, epo2=10)"
   ]
  }
 ],
 "metadata": {
  "kernelspec": {
   "display_name": "Python 3",
   "language": "python",
   "name": "python3"
  },
  "language_info": {
   "codemirror_mode": {
    "name": "ipython",
    "version": 3
   },
   "file_extension": ".py",
   "mimetype": "text/x-python",
   "name": "python",
   "nbconvert_exporter": "python",
   "pygments_lexer": "ipython3",
   "version": "3.6.1"
  }
 },
 "nbformat": 4,
 "nbformat_minor": 2
}
