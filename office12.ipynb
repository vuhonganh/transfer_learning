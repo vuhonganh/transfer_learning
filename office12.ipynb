{
 "cells": [
  {
   "cell_type": "code",
   "execution_count": null,
   "metadata": {
    "collapsed": true
   },
   "outputs": [],
   "source": [
    "%load_ext autoreload\n",
    "%autoreload 2"
   ]
  },
  {
   "cell_type": "code",
   "execution_count": 15,
   "metadata": {},
   "outputs": [],
   "source": [
    "from data_reader import get_data_arr\n",
    "import keras\n",
    "from keras import backend as K\n",
    "from keras.preprocessing.image import ImageDataGenerator, array_to_img, img_to_array, load_img\n",
    "from keras.models import Sequential\n",
    "from keras.layers import Conv2D, MaxPooling2D\n",
    "from keras.layers import Activation, Dropout, Flatten, Dense\n",
    "import numpy as np\n",
    "import os\n",
    "from data_reader import get_data_stratify"
   ]
  },
  {
   "cell_type": "code",
   "execution_count": 16,
   "metadata": {
    "collapsed": true
   },
   "outputs": [],
   "source": [
    "%matplotlib inline  \n",
    "import matplotlib\n",
    "matplotlib.rcParams['figure.figsize'] = (10, 6)\n",
    "import matplotlib.pyplot as plt\n",
    "from time import gmtime, strftime"
   ]
  },
  {
   "cell_type": "code",
   "execution_count": 27,
   "metadata": {
    "collapsed": true
   },
   "outputs": [],
   "source": [
    "# import file containing models\n",
    "from transfer_models import *\n",
    "from utils import compute_accuracy, test_from_reader_data"
   ]
  },
  {
   "cell_type": "code",
   "execution_count": null,
   "metadata": {
    "collapsed": true
   },
   "outputs": [],
   "source": [
    "def plot_history(history):\n",
    "    # list all data in history\n",
    "    #print(history.history.keys())\n",
    "\n",
    "    y1_1 = history['loss']\n",
    "    y1_2 = history['val_loss']\n",
    "\n",
    "    fig, axarr = plt.subplots(nrows=2, sharex=True)\n",
    "    axarr[0].plot(y1_1, label='train')\n",
    "    axarr[0].plot(y1_2, label='val')\n",
    "    axarr[0].set_title('loss')\n",
    "    axarr[0].legend(loc='upper right')\n",
    "\n",
    "    y2_1 = history['acc']\n",
    "    y2_2 = history['val_acc']\n",
    "    axarr[1].set_title('accuracy')\n",
    "    axarr[1].plot(y2_1, label='train')\n",
    "    axarr[1].plot(y2_2, label='val')\n",
    "    axarr[1].legend(loc='lower right')"
   ]
  },
  {
   "cell_type": "code",
   "execution_count": null,
   "metadata": {
    "collapsed": true
   },
   "outputs": [],
   "source": [
    "def plot_acc(history):\n",
    "    "
   ]
  },
  {
   "cell_type": "code",
   "execution_count": 4,
   "metadata": {
    "collapsed": true
   },
   "outputs": [],
   "source": [
    "# office 12 objects\n",
    "classes_reader = [\"apple\", \"pen\", \"book\", \"monitor\", \"mouse\", \"wallet\", \"keyboard\",\n",
    "                  \"banana\", \"key\", \"mug\", \"pear\", \"orange\"]"
   ]
  },
  {
   "cell_type": "markdown",
   "metadata": {},
   "source": [
    "Experiment augmentation from array image."
   ]
  },
  {
   "cell_type": "code",
   "execution_count": 22,
   "metadata": {},
   "outputs": [
    {
     "name": "stdout",
     "output_type": "stream",
     "text": [
      "Read data from mydata_1200.npz \n",
      "\n"
     ]
    }
   ],
   "source": [
    "x_train, y_train, x_val, y_val, x_test, y_test = get_data_arr()"
   ]
  },
  {
   "cell_type": "code",
   "execution_count": 29,
   "metadata": {},
   "outputs": [
    {
     "name": "stdout",
     "output_type": "stream",
     "text": [
      "initializer = he_normal and l2 regularizer reg = 0.010000\n",
      "added fc-256 with dropout keep probability 0.500000\n"
     ]
    },
    {
     "name": "stderr",
     "output_type": "stream",
     "text": [
      "/home/hav16/vgg_transfer/transfer_models.py:83: UserWarning: Update your `Model` call to the Keras 2 API: `Model(inputs=Tensor(\"in..., outputs=Tensor(\"se...)`\n",
      "  model = keras.models.Model(input=base_model.input, output=fc_model(base_model.output))\n"
     ]
    }
   ],
   "source": [
    "# Simple model with resnet-(256, 0.5)\n",
    "resnet_256 = get_model([(256, 0.5)])\n",
    "resnet_256 = build_model(resnet_256, learning_rate=1e-4)"
   ]
  },
  {
   "cell_type": "code",
   "execution_count": 30,
   "metadata": {
    "collapsed": true
   },
   "outputs": [],
   "source": [
    "# let's do an experiment with \n",
    "lrPlatCallBack = keras.callbacks.ReduceLROnPlateau(monitor='val_loss', factor=0.2, patience=3,\n",
    "                                                       verbose=1, mode='auto',\n",
    "                                                       epsilon=0.0001, cooldown=0, min_lr=1e-6)"
   ]
  },
  {
   "cell_type": "code",
   "execution_count": 31,
   "metadata": {},
   "outputs": [
    {
     "name": "stdout",
     "output_type": "stream",
     "text": [
      "Train on 8064 samples, validate on 2016 samples\n",
      "Epoch 1/30\n",
      "8064/8064 [==============================] - 91s - loss: 5.2015 - acc: 0.5371 - val_loss: 4.1546 - val_acc: 0.8075\n",
      "Epoch 2/30\n",
      "8064/8064 [==============================] - 90s - loss: 4.0846 - acc: 0.7548 - val_loss: 3.5973 - val_acc: 0.8413\n",
      "Epoch 3/30\n",
      "8064/8064 [==============================] - 90s - loss: 3.5223 - acc: 0.8012 - val_loss: 3.1567 - val_acc: 0.8611\n",
      "Epoch 4/30\n",
      "8064/8064 [==============================] - 90s - loss: 3.0799 - acc: 0.8309 - val_loss: 2.7909 - val_acc: 0.8715\n",
      "Epoch 5/30\n",
      "8064/8064 [==============================] - 90s - loss: 2.7110 - acc: 0.8501 - val_loss: 2.4839 - val_acc: 0.8805\n",
      "Epoch 6/30\n",
      "8064/8064 [==============================] - 90s - loss: 2.3972 - acc: 0.8656 - val_loss: 2.2036 - val_acc: 0.8849\n",
      "Epoch 7/30\n",
      "8064/8064 [==============================] - 90s - loss: 2.1302 - acc: 0.8772 - val_loss: 1.9857 - val_acc: 0.8829\n",
      "Epoch 8/30\n",
      "8064/8064 [==============================] - 90s - loss: 1.8936 - acc: 0.8818 - val_loss: 1.7633 - val_acc: 0.8948\n",
      "Epoch 9/30\n",
      "8064/8064 [==============================] - 90s - loss: 1.6833 - acc: 0.8938 - val_loss: 1.5813 - val_acc: 0.8934\n",
      "Epoch 10/30\n",
      "8064/8064 [==============================] - 90s - loss: 1.5121 - acc: 0.8971 - val_loss: 1.4256 - val_acc: 0.9033\n",
      "Epoch 11/30\n",
      "8064/8064 [==============================] - 90s - loss: 1.3530 - acc: 0.9054 - val_loss: 1.2869 - val_acc: 0.8988\n",
      "Epoch 12/30\n",
      "8064/8064 [==============================] - 90s - loss: 1.2113 - acc: 0.9144 - val_loss: 1.1671 - val_acc: 0.9072\n",
      "Epoch 13/30\n",
      "8064/8064 [==============================] - 90s - loss: 1.0952 - acc: 0.9136 - val_loss: 1.0631 - val_acc: 0.9067\n",
      "Epoch 14/30\n",
      "8064/8064 [==============================] - 90s - loss: 0.9905 - acc: 0.9210 - val_loss: 0.9739 - val_acc: 0.9092\n",
      "Epoch 15/30\n",
      "8064/8064 [==============================] - 90s - loss: 0.9028 - acc: 0.9209 - val_loss: 0.8970 - val_acc: 0.9077\n",
      "Epoch 16/30\n",
      "8064/8064 [==============================] - 90s - loss: 0.8221 - acc: 0.9276 - val_loss: 0.8301 - val_acc: 0.9107\n",
      "Epoch 17/30\n",
      "8064/8064 [==============================] - 90s - loss: 0.7564 - acc: 0.9288 - val_loss: 0.7742 - val_acc: 0.9097\n",
      "Epoch 18/30\n",
      "8064/8064 [==============================] - 90s - loss: 0.7023 - acc: 0.9307 - val_loss: 0.7213 - val_acc: 0.9177\n",
      "Epoch 19/30\n",
      "8064/8064 [==============================] - 90s - loss: 0.6509 - acc: 0.9322 - val_loss: 0.6859 - val_acc: 0.9142\n",
      "Epoch 20/30\n",
      "8064/8064 [==============================] - 90s - loss: 0.6109 - acc: 0.9327 - val_loss: 0.6382 - val_acc: 0.9092\n",
      "Epoch 21/30\n",
      "8064/8064 [==============================] - 90s - loss: 0.5719 - acc: 0.9327 - val_loss: 0.6062 - val_acc: 0.9152\n",
      "Epoch 22/30\n",
      "8064/8064 [==============================] - 90s - loss: 0.5449 - acc: 0.9343 - val_loss: 0.5780 - val_acc: 0.9152\n",
      "Epoch 23/30\n",
      "8064/8064 [==============================] - 90s - loss: 0.5135 - acc: 0.9361 - val_loss: 0.5656 - val_acc: 0.9127\n",
      "Epoch 24/30\n",
      "8064/8064 [==============================] - 90s - loss: 0.4863 - acc: 0.9395 - val_loss: 0.5321 - val_acc: 0.9147\n",
      "Epoch 25/30\n",
      "8064/8064 [==============================] - 90s - loss: 0.4593 - acc: 0.9432 - val_loss: 0.5145 - val_acc: 0.9117\n",
      "Epoch 26/30\n",
      "8064/8064 [==============================] - 90s - loss: 0.4435 - acc: 0.9422 - val_loss: 0.5000 - val_acc: 0.9147\n",
      "Epoch 27/30\n",
      "8064/8064 [==============================] - 90s - loss: 0.4279 - acc: 0.9413 - val_loss: 0.4872 - val_acc: 0.9147\n",
      "Epoch 28/30\n",
      "8064/8064 [==============================] - 90s - loss: 0.4116 - acc: 0.9415 - val_loss: 0.4728 - val_acc: 0.9182\n",
      "Epoch 29/30\n",
      "8064/8064 [==============================] - 90s - loss: 0.4027 - acc: 0.9436 - val_loss: 0.4645 - val_acc: 0.9137\n",
      "Epoch 30/30\n",
      "8064/8064 [==============================] - 90s - loss: 0.3862 - acc: 0.9456 - val_loss: 0.4584 - val_acc: 0.9172\n"
     ]
    },
    {
     "data": {
      "image/png": "[encoded data removed]",
      "text/plain": [
       "<matplotlib.figure.Figure at 0x7f076babeeb8>"
      ]
     },
     "metadata": {},
     "output_type": "display_data"
    }
   ],
   "source": [
    "history_resnet_256 = resnet_256.fit(x_train, y_train, batch_size=48, epochs=30,\n",
    "                                    validation_data=(x_val, y_val), verbose=2,\n",
    "                                    callbacks=[lrPlatCallBack])\n",
    "\n",
    "plot_history(history_resnet_256.history)"
   ]
  },
  {
   "cell_type": "code",
   "execution_count": 42,
   "metadata": {
    "collapsed": true
   },
   "outputs": [],
   "source": [
    "# let's use data augmentation to see if this helps\n",
    "train_datagen = ImageDataGenerator(\n",
    "        #featurewise_center=True,\n",
    "        #featurewise_std_normalization=True,\n",
    "        rescale=1./255,\n",
    "        shear_range=0.02,\n",
    "        zoom_range=0.02,\n",
    "        rotation_range=20,\n",
    "        horizontal_flip=True)\n",
    "val_datagen = ImageDataGenerator(rescale=1./255)\n",
    "\n",
    "train_datagen.fit(x_train)"
   ]
  },
  {
   "cell_type": "code",
   "execution_count": null,
   "metadata": {},
   "outputs": [
    {
     "name": "stdout",
     "output_type": "stream",
     "text": [
      "initializer = he_normal and l2 regularizer reg = 0.010000\n",
      "added fc-256 with dropout keep probability 0.500000\n"
     ]
    },
    {
     "name": "stderr",
     "output_type": "stream",
     "text": [
      "/home/hav16/vgg_transfer/transfer_models.py:83: UserWarning: Update your `Model` call to the Keras 2 API: `Model(inputs=Tensor(\"in..., outputs=Tensor(\"se...)`\n",
      "  model = keras.models.Model(input=base_model.input, output=fc_model(base_model.output))\n"
     ]
    },
    {
     "name": "stdout",
     "output_type": "stream",
     "text": [
      "Epoch 1/30\n",
      "168/168 [==============================] - 87s - loss: 5.3723 - acc: 0.4859 - val_loss: 6.2130 - val_acc: 0.0789\n",
      "Epoch 2/30\n",
      "168/168 [==============================] - 83s - loss: 4.2368 - acc: 0.7164 - val_loss: 5.6366 - val_acc: 0.1451\n",
      "Epoch 3/30\n",
      "168/168 [==============================] - 83s - loss: 3.6882 - acc: 0.7659 - val_loss: 4.7685 - val_acc: 0.3490\n",
      "Epoch 4/30\n",
      "168/168 [==============================] - 83s - loss: 3.2589 - acc: 0.7975 - val_loss: 3.7488 - val_acc: 0.5923\n",
      "Epoch 5/30\n",
      "168/168 [==============================] - 83s - loss: 2.9015 - acc: 0.8170 - val_loss: 2.9453 - val_acc: 0.7664\n",
      "Epoch 6/30\n",
      "168/168 [==============================] - 83s - loss: 2.5990 - acc: 0.8282 - val_loss: 2.4579 - val_acc: 0.8289\n",
      "Epoch 7/30\n",
      "168/168 [==============================] - 83s - loss: 2.3232 - acc: 0.8378 - val_loss: 2.1516 - val_acc: 0.8594\n",
      "Epoch 8/30\n",
      "168/168 [==============================] - 83s - loss: 2.0876 - acc: 0.8481 - val_loss: 1.9127 - val_acc: 0.8765\n",
      "Epoch 9/30\n",
      "168/168 [==============================] - 83s - loss: 1.8840 - acc: 0.8564 - val_loss: 1.7326 - val_acc: 0.8876\n",
      "Epoch 10/30\n",
      "168/168 [==============================] - 83s - loss: 1.6976 - acc: 0.8601 - val_loss: 1.5805 - val_acc: 0.8787\n",
      "Epoch 11/30\n",
      "168/168 [==============================] - 83s - loss: 1.5481 - acc: 0.8621 - val_loss: 1.4272 - val_acc: 0.8765\n",
      "Epoch 12/30\n",
      "168/168 [==============================] - 83s - loss: 1.4129 - acc: 0.8683 - val_loss: 1.2923 - val_acc: 0.8891\n",
      "Epoch 13/30\n",
      "168/168 [==============================] - 83s - loss: 1.2946 - acc: 0.8724 - val_loss: 1.1978 - val_acc: 0.8824\n",
      "Epoch 14/30\n",
      "168/168 [==============================] - 83s - loss: 1.1816 - acc: 0.8814 - val_loss: 1.1156 - val_acc: 0.8795\n",
      "Epoch 15/30\n",
      "168/168 [==============================] - 83s - loss: 1.0816 - acc: 0.8836 - val_loss: 0.9786 - val_acc: 0.9003\n",
      "Epoch 16/30\n",
      "168/168 [==============================] - 83s - loss: 1.0057 - acc: 0.8842 - val_loss: 0.9596 - val_acc: 0.8810\n",
      "Epoch 17/30\n",
      "168/168 [==============================] - 83s - loss: 0.9311 - acc: 0.8889 - val_loss: 0.9148 - val_acc: 0.8720\n",
      "Epoch 18/30\n",
      "168/168 [==============================] - 83s - loss: 0.8786 - acc: 0.8850 - val_loss: 0.8310 - val_acc: 0.8936\n",
      "Epoch 19/30\n",
      "168/168 [==============================] - 83s - loss: 0.8237 - acc: 0.8896 - val_loss: 0.7871 - val_acc: 0.8869\n",
      "Epoch 20/30\n",
      "168/168 [==============================] - 83s - loss: 0.7671 - acc: 0.8941 - val_loss: 0.7463 - val_acc: 0.8929\n",
      "Epoch 21/30\n",
      "168/168 [==============================] - 83s - loss: 0.7372 - acc: 0.8936 - val_loss: 0.7049 - val_acc: 0.8966\n",
      "Epoch 22/30\n",
      "168/168 [==============================] - 83s - loss: 0.6934 - acc: 0.8981 - val_loss: 0.6864 - val_acc: 0.8929\n",
      "Epoch 23/30\n",
      "168/168 [==============================] - 83s - loss: 0.6668 - acc: 0.8984 - val_loss: 0.6629 - val_acc: 0.8936\n",
      "Epoch 24/30\n",
      "168/168 [==============================] - 83s - loss: 0.6408 - acc: 0.8942 - val_loss: 0.6352 - val_acc: 0.8951\n",
      "Epoch 25/30\n",
      "168/168 [==============================] - 83s - loss: 0.6148 - acc: 0.8988 - val_loss: 0.5772 - val_acc: 0.9122\n",
      "Epoch 26/30\n",
      "168/168 [==============================] - 83s - loss: 0.5885 - acc: 0.9003 - val_loss: 0.6059 - val_acc: 0.8787\n",
      "Epoch 27/30\n",
      "168/168 [==============================] - 83s - loss: 0.5644 - acc: 0.9008 - val_loss: 0.5595 - val_acc: 0.9025\n",
      "Epoch 28/30\n",
      "168/168 [==============================] - 83s - loss: 0.5512 - acc: 0.9044 - val_loss: 0.5863 - val_acc: 0.8787\n",
      "Epoch 29/30\n",
      "168/168 [==============================] - 83s - loss: 0.5401 - acc: 0.9045 - val_loss: 0.5207 - val_acc: 0.9033\n",
      "Epoch 30/30\n",
      "167/168 [============================>.] - ETA: 0s - loss: 0.5194 - acc: 0.9062"
     ]
    }
   ],
   "source": [
    "resnet_256_with_augment = get_model([(256, 0.5)])\n",
    "resnet_256_with_augment = build_model(resnet_256_with_augment, learning_rate=1e-4)\n",
    "\n",
    "lrPlatCallBack2 = keras.callbacks.ReduceLROnPlateau(monitor='val_loss', factor=0.2, patience=3,\n",
    "                                                       verbose=1, mode='auto',\n",
    "                                                       epsilon=0.0001, cooldown=0, min_lr=1e-6)\n",
    "\n",
    "resnet_256_with_augment_history = resnet_256_with_augment.fit_generator(\n",
    "    train_datagen.flow(x_train, y_train, batch_size=48),\n",
    "    steps_per_epoch=len(x_train) / 48,\n",
    "    epochs=30, \n",
    "    validation_data=val_datagen.flow(x_val, y_val), \n",
    "    validation_steps=len(x_val)/48,\n",
    "    verbose=2,\n",
    "    callbacks=[lrPlatCallBack2])\n",
    "\n",
    "plot_history(resnet_256_with_augment_history.history)"
   ]
  },
  {
   "cell_type": "code",
   "execution_count": 39,
   "metadata": {},
   "outputs": [
    {
     "name": "stdout",
     "output_type": "stream",
     "text": [
      "initializer = he_normal and l2 regularizer reg = 0.010000\n",
      "added fc-512 with dropout keep probability 0.500000\n",
      "added fc-128 with dropout keep probability 0.500000\n"
     ]
    },
    {
     "name": "stderr",
     "output_type": "stream",
     "text": [
      "/home/hav16/vgg_transfer/transfer_models.py:83: UserWarning: Update your `Model` call to the Keras 2 API: `Model(inputs=Tensor(\"in..., outputs=Tensor(\"se...)`\n",
      "  model = keras.models.Model(input=base_model.input, output=fc_model(base_model.output))\n"
     ]
    }
   ],
   "source": [
    "resnet_512_128 = get_model([(512, 0.5), (128, 0.5)])\n",
    "resnet_512_128 = build_model(resnet_512_128, 1e-4)"
   ]
  },
  {
   "cell_type": "code",
   "execution_count": 40,
   "metadata": {},
   "outputs": [
    {
     "name": "stdout",
     "output_type": "stream",
     "text": [
      "Train on 8064 samples, validate on 2016 samples\n",
      "Epoch 1/30\n",
      "8064/8064 [==============================] - 93s - loss: 11.3299 - acc: 0.3482 - val_loss: 9.6157 - val_acc: 0.7956\n",
      "Epoch 2/30\n",
      "8064/8064 [==============================] - 91s - loss: 9.3277 - acc: 0.6390 - val_loss: 8.2524 - val_acc: 0.8229\n",
      "Epoch 3/30\n",
      "8064/8064 [==============================] - 91s - loss: 8.0657 - acc: 0.7114 - val_loss: 7.1939 - val_acc: 0.8502\n",
      "Epoch 4/30\n",
      "8064/8064 [==============================] - 91s - loss: 7.0328 - acc: 0.7571 - val_loss: 6.2998 - val_acc: 0.8586\n",
      "Epoch 5/30\n",
      "8064/8064 [==============================] - 91s - loss: 6.1372 - acc: 0.7908 - val_loss: 5.5263 - val_acc: 0.8666\n",
      "Epoch 6/30\n",
      "8064/8064 [==============================] - 91s - loss: 5.3938 - acc: 0.8058 - val_loss: 4.8583 - val_acc: 0.8780\n",
      "Epoch 7/30\n",
      "8064/8064 [==============================] - 91s - loss: 4.7335 - acc: 0.8260 - val_loss: 4.2756 - val_acc: 0.8829\n",
      "Epoch 8/30\n",
      "8064/8064 [==============================] - 91s - loss: 4.1641 - acc: 0.8404 - val_loss: 3.7699 - val_acc: 0.8904\n",
      "Epoch 9/30\n",
      "8064/8064 [==============================] - 91s - loss: 3.6798 - acc: 0.8513 - val_loss: 3.3319 - val_acc: 0.8884\n",
      "Epoch 10/30\n",
      "8064/8064 [==============================] - 91s - loss: 3.2564 - acc: 0.8575 - val_loss: 2.9483 - val_acc: 0.8919\n",
      "Epoch 11/30\n",
      "8064/8064 [==============================] - 91s - loss: 2.8910 - acc: 0.8625 - val_loss: 2.6179 - val_acc: 0.9008\n",
      "Epoch 12/30\n",
      "8064/8064 [==============================] - 91s - loss: 2.5690 - acc: 0.8730 - val_loss: 2.3338 - val_acc: 0.8958\n",
      "Epoch 13/30\n",
      "8064/8064 [==============================] - 91s - loss: 2.2944 - acc: 0.8772 - val_loss: 2.0854 - val_acc: 0.9008\n",
      "Epoch 14/30\n",
      "8064/8064 [==============================] - 91s - loss: 2.0509 - acc: 0.8800 - val_loss: 1.8859 - val_acc: 0.8998\n",
      "Epoch 15/30\n",
      "8064/8064 [==============================] - 91s - loss: 1.8552 - acc: 0.8849 - val_loss: 1.6949 - val_acc: 0.8973\n",
      "Epoch 16/30\n",
      "8064/8064 [==============================] - 91s - loss: 1.6702 - acc: 0.8888 - val_loss: 1.5444 - val_acc: 0.8953\n",
      "Epoch 17/30\n",
      "8064/8064 [==============================] - 91s - loss: 1.5008 - acc: 0.8950 - val_loss: 1.4004 - val_acc: 0.8983\n",
      "Epoch 18/30\n",
      "8064/8064 [==============================] - 91s - loss: 1.3795 - acc: 0.8942 - val_loss: 1.2812 - val_acc: 0.9023\n",
      "Epoch 19/30\n",
      "8064/8064 [==============================] - 91s - loss: 1.2654 - acc: 0.8974 - val_loss: 1.1760 - val_acc: 0.9077\n",
      "Epoch 20/30\n",
      "8064/8064 [==============================] - 91s - loss: 1.1701 - acc: 0.8997 - val_loss: 1.0845 - val_acc: 0.9097\n",
      "Epoch 21/30\n",
      "8064/8064 [==============================] - 91s - loss: 1.0843 - acc: 0.9048 - val_loss: 1.0193 - val_acc: 0.9033\n",
      "Epoch 22/30\n",
      "8064/8064 [==============================] - 91s - loss: 1.0098 - acc: 0.9023 - val_loss: 0.9477 - val_acc: 0.9082\n",
      "Epoch 23/30\n",
      "8064/8064 [==============================] - 91s - loss: 0.9539 - acc: 0.9031 - val_loss: 0.9040 - val_acc: 0.9028\n",
      "Epoch 24/30\n",
      "8064/8064 [==============================] - 91s - loss: 0.8789 - acc: 0.9142 - val_loss: 0.8527 - val_acc: 0.9067\n",
      "Epoch 25/30\n",
      "8064/8064 [==============================] - 91s - loss: 0.8341 - acc: 0.9107 - val_loss: 0.8067 - val_acc: 0.9107\n",
      "Epoch 26/30\n",
      "8064/8064 [==============================] - 91s - loss: 0.8076 - acc: 0.9071 - val_loss: 0.7886 - val_acc: 0.9043\n",
      "Epoch 27/30\n",
      "8064/8064 [==============================] - 91s - loss: 0.7793 - acc: 0.9055 - val_loss: 0.7373 - val_acc: 0.9087\n",
      "Epoch 28/30\n",
      "8064/8064 [==============================] - 91s - loss: 0.7288 - acc: 0.9117 - val_loss: 0.7152 - val_acc: 0.9063\n",
      "Epoch 29/30\n",
      "8064/8064 [==============================] - 91s - loss: 0.7010 - acc: 0.9117 - val_loss: 0.6888 - val_acc: 0.9117\n",
      "Epoch 30/30\n",
      "8064/8064 [==============================] - 91s - loss: 0.6878 - acc: 0.9085 - val_loss: 0.6623 - val_acc: 0.9132\n"
     ]
    },
    {
     "data": {
      "image/png": "[encoded data removed]",
      "text/plain": [
       "<matplotlib.figure.Figure at 0x7f0755967198>"
      ]
     },
     "metadata": {},
     "output_type": "display_data"
    }
   ],
   "source": [
    "history_resnet_512_128 = resnet_512_128.fit(x_train, y_train, batch_size=48, epochs=30,\n",
    "                                    validation_data=(x_val, y_val), verbose=2,\n",
    "                                    callbacks=[lrPlatCallBack])\n",
    "\n",
    "plot_history(history_resnet_512_128.history)"
   ]
  }
 ],
 "metadata": {
  "kernelspec": {
   "display_name": "Python 3",
   "language": "python",
   "name": "python3"
  },
  "language_info": {
   "codemirror_mode": {
    "name": "ipython",
    "version": 3
   },
   "file_extension": ".py",
   "mimetype": "text/x-python",
   "name": "python",
   "nbconvert_exporter": "python",
   "pygments_lexer": "ipython3",
   "version": "3.6.1"
  }
 },
 "nbformat": 4,
 "nbformat_minor": 1
}
