{
 "cells": [
  {
   "cell_type": "code",
   "execution_count": 1,
   "metadata": {
    "collapsed": true
   },
   "outputs": [],
   "source": [
    "%load_ext autoreload\n",
    "%autoreload 2\n",
    "%matplotlib inline  "
   ]
  },
  {
   "cell_type": "code",
   "execution_count": 2,
   "metadata": {},
   "outputs": [
    {
     "name": "stderr",
     "output_type": "stream",
     "text": [
      "Using TensorFlow backend.\n"
     ]
    }
   ],
   "source": [
    "import matplotlib.pyplot as plt \n",
    "from data_reader import get_data_arr\n",
    "from transfer_models import TransferModel, compare_models, get_mean_std"
   ]
  },
  {
   "cell_type": "code",
   "execution_count": 3,
   "metadata": {},
   "outputs": [
    {
     "name": "stdout",
     "output_type": "stream",
     "text": [
      "Read data from mydata_1200.npz \n",
      "\n"
     ]
    }
   ],
   "source": [
    "x_train, y_train, x_val, y_val, x_test, y_test = get_data_arr()"
   ]
  },
  {
   "cell_type": "code",
   "execution_count": 4,
   "metadata": {},
   "outputs": [
    {
     "name": "stdout",
     "output_type": "stream",
     "text": [
      "initializer = he_normal\n",
      "Train on 8064 samples, validate on 2016 samples\n",
      "Epoch 1/3\n",
      "104s - loss: 1.8159 - acc: 0.4183 - val_loss: 1.0375 - val_acc: 0.6989\n",
      "Epoch 2/3\n",
      "92s - loss: 0.9005 - acc: 0.7298 - val_loss: 0.7030 - val_acc: 0.7892\n",
      "Epoch 3/3\n",
      "92s - loss: 0.6875 - acc: 0.7906 - val_loss: 0.5818 - val_acc: 0.8165\n"
     ]
    }
   ],
   "source": [
    "m0 = TransferModel(\"resnet\", [])\n",
    "m0.fit(x_train, y_train, x_val, y_val, bs=32, epos=3)"
   ]
  },
  {
   "cell_type": "code",
   "execution_count": 5,
   "metadata": {},
   "outputs": [
    {
     "name": "stdout",
     "output_type": "stream",
     "text": [
      "initializer = he_normal\n",
      "Train on 8064 samples, validate on 2016 samples\n",
      "Epoch 1/3\n",
      "93s - loss: 2.0214 - acc: 0.3476 - val_loss: 1.3150 - val_acc: 0.5957\n",
      "Epoch 2/3\n",
      "91s - loss: 1.1054 - acc: 0.6706 - val_loss: 0.8701 - val_acc: 0.7480\n",
      "Epoch 3/3\n",
      "91s - loss: 0.8126 - acc: 0.7563 - val_loss: 0.6965 - val_acc: 0.7941\n"
     ]
    }
   ],
   "source": [
    "m0 = TransferModel(\"resnet\", [])\n",
    "m0.fit(x_train, y_train, x_val, y_val, bs=64, epos=3)"
   ]
  }
 ],
 "metadata": {
  "kernelspec": {
   "display_name": "Python 3",
   "language": "python",
   "name": "python3"
  },
  "language_info": {
   "codemirror_mode": {
    "name": "ipython",
    "version": 3
   },
   "file_extension": ".py",
   "mimetype": "text/x-python",
   "name": "python",
   "nbconvert_exporter": "python",
   "pygments_lexer": "ipython3",
   "version": "3.6.1"
  }
 },
 "nbformat": 4,
 "nbformat_minor": 2
}
